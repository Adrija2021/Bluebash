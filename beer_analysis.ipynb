{
  "nbformat": 4,
  "nbformat_minor": 0,
  "metadata": {
    "colab": {
      "provenance": []
    },
    "kernelspec": {
      "name": "python3",
      "display_name": "Python 3"
    },
    "language_info": {
      "name": "python"
    }
  },
  "cells": [
    {
      "cell_type": "code",
      "execution_count": 1,
      "metadata": {
        "colab": {
          "base_uri": "https://localhost:8080/"
        },
        "collapsed": true,
        "id": "2NvU7H7J1Inr",
        "outputId": "4796c3f4-ac43-4d58-f09a-7981f49d38d1"
      },
      "outputs": [
        {
          "output_type": "stream",
          "name": "stdout",
          "text": [
            "<class 'pandas.core.frame.DataFrame'>\n",
            "RangeIndex: 37500 entries, 0 to 37499\n",
            "Data columns (total 19 columns):\n",
            " #   Column             Non-Null Count  Dtype  \n",
            "---  ------             --------------  -----  \n",
            " 0   index              37500 non-null  int64  \n",
            " 1   beer/ABV           37500 non-null  float64\n",
            " 2   beer/beerId        37500 non-null  int64  \n",
            " 3   beer/brewerId      37500 non-null  int64  \n",
            " 4   beer/name          37500 non-null  object \n",
            " 5   beer/style         37500 non-null  object \n",
            " 6   review/appearance  37500 non-null  float64\n",
            " 7   review/aroma       37500 non-null  float64\n",
            " 8   review/overall     37500 non-null  float64\n",
            " 9   review/palate      37500 non-null  float64\n",
            " 10  review/taste       37500 non-null  float64\n",
            " 11  review/text        37490 non-null  object \n",
            " 12  review/timeStruct  37500 non-null  object \n",
            " 13  review/timeUnix    37500 non-null  int64  \n",
            " 14  user/ageInSeconds  7856 non-null   float64\n",
            " 15  user/birthdayRaw   7856 non-null   object \n",
            " 16  user/birthdayUnix  7856 non-null   float64\n",
            " 17  user/gender        15314 non-null  object \n",
            " 18  user/profileName   37495 non-null  object \n",
            "dtypes: float64(8), int64(4), object(7)\n",
            "memory usage: 5.4+ MB\n"
          ]
        },
        {
          "output_type": "execute_result",
          "data": {
            "text/plain": [
              "{'head':    index  beer/ABV  beer/beerId  beer/brewerId                  beer/name  \\\n",
              " 0  40163       5.0        46634          14338                   Chiostro   \n",
              " 1   8135      11.0         3003            395   Bearded Pat's Barleywine   \n",
              " 2  10529       4.7          961            365       Naughty Nellie's Ale   \n",
              " 3  44610       4.4          429              1            Pilsner Urquell   \n",
              " 4  37062       4.4         4904           1417  Black Sheep Ale (Special)   \n",
              " \n",
              "                 beer/style  review/appearance  review/aroma  review/overall  \\\n",
              " 0     Herbed / Spiced Beer                4.0           4.0             4.0   \n",
              " 1      American Barleywine                4.0           3.5             3.5   \n",
              " 2  American Pale Ale (APA)                3.5           4.0             3.5   \n",
              " 3           Czech Pilsener                3.0           3.0             2.5   \n",
              " 4         English Pale Ale                4.0           3.0             3.0   \n",
              " \n",
              "    review/palate  review/taste  \\\n",
              " 0            4.0           4.0   \n",
              " 1            3.5           3.0   \n",
              " 2            3.5           3.5   \n",
              " 3            3.0           3.0   \n",
              " 4            3.5           2.5   \n",
              " \n",
              "                                          review/text  \\\n",
              " 0  Pours a clouded gold with a thin white head. N...   \n",
              " 1  12oz bottle into 8oz snifter.\\t\\tDeep ruby red...   \n",
              " 2  First enjoyed at the brewpub about 2 years ago...   \n",
              " 3  First thing I noticed after pouring from green...   \n",
              " 4  A: pours an amber with a one finger head but o...   \n",
              " \n",
              "                                    review/timeStruct  review/timeUnix  \\\n",
              " 0  {'min': 38, 'hour': 3, 'mday': 16, 'sec': 10, ...       1229398690   \n",
              " 1  {'min': 38, 'hour': 23, 'mday': 8, 'sec': 58, ...       1218238738   \n",
              " 2  {'min': 7, 'hour': 18, 'mday': 26, 'sec': 2, '...       1101492422   \n",
              " 3  {'min': 7, 'hour': 1, 'mday': 20, 'sec': 5, 'y...       1308532025   \n",
              " 4  {'min': 51, 'hour': 6, 'mday': 12, 'sec': 48, ...       1299912708   \n",
              " \n",
              "    user/ageInSeconds user/birthdayRaw  user/birthdayUnix user/gender  \\\n",
              " 0                NaN              NaN                NaN         NaN   \n",
              " 1                NaN              NaN                NaN         NaN   \n",
              " 2                NaN              NaN                NaN        Male   \n",
              " 3       1.209827e+09     Aug 10, 1976        208508400.0        Male   \n",
              " 4                NaN              NaN                NaN         NaN   \n",
              " \n",
              "   user/profileName  \n",
              " 0       RblWthACoz  \n",
              " 1          BeerSox  \n",
              " 2       mschofield  \n",
              " 3        molegar76  \n",
              " 4       Brewbro000  ,\n",
              " 'info': None,\n",
              " 'description':                index      beer/ABV   beer/beerId  beer/brewerId  \\\n",
              " count   37500.000000  37500.000000  37500.000000   37500.000000   \n",
              " unique           NaN           NaN           NaN            NaN   \n",
              " top              NaN           NaN           NaN            NaN   \n",
              " freq             NaN           NaN           NaN            NaN   \n",
              " mean    24951.887573      7.403725  21861.152027    3036.595120   \n",
              " std     14434.009669      2.318145  18923.130832    5123.084675   \n",
              " min         0.000000      0.100000    175.000000       1.000000   \n",
              " 25%     12422.500000      5.400000   5441.000000     395.000000   \n",
              " 50%     24942.500000      6.900000  17538.000000    1199.000000   \n",
              " 75%     37416.750000      9.400000  34146.000000    1315.000000   \n",
              " max     49999.000000     57.700000  77207.000000   27797.000000   \n",
              " \n",
              "                        beer/name                        beer/style  \\\n",
              " count                      37500                             37500   \n",
              " unique                      1688                                95   \n",
              " top     Founders Breakfast Stout  American Double / Imperial Stout   \n",
              " freq                        1883                              4495   \n",
              " mean                         NaN                               NaN   \n",
              " std                          NaN                               NaN   \n",
              " min                          NaN                               NaN   \n",
              " 25%                          NaN                               NaN   \n",
              " 50%                          NaN                               NaN   \n",
              " 75%                          NaN                               NaN   \n",
              " max                          NaN                               NaN   \n",
              " \n",
              "         review/appearance  review/aroma  review/overall  review/palate  \\\n",
              " count        37500.000000  37500.000000     37500.00000   37500.000000   \n",
              " unique                NaN           NaN             NaN            NaN   \n",
              " top                   NaN           NaN             NaN            NaN   \n",
              " freq                  NaN           NaN             NaN            NaN   \n",
              " mean             3.900053      3.873240         3.88944       3.854867   \n",
              " std              0.588778      0.680865         0.70045       0.668068   \n",
              " min              0.000000      1.000000         0.00000       1.000000   \n",
              " 25%              3.500000      3.500000         3.50000       3.500000   \n",
              " 50%              4.000000      4.000000         4.00000       4.000000   \n",
              " 75%              4.500000      4.500000         4.50000       4.500000   \n",
              " max              5.000000      5.000000         5.00000       5.000000   \n",
              " \n",
              "         review/taste                                        review/text  \\\n",
              " count   37500.000000                                              37490   \n",
              " unique           NaN                                              37482   \n",
              " top              NaN  The beer has a bit of a reddish color to it, w...   \n",
              " freq             NaN                                                  2   \n",
              " mean        3.922440                                                NaN   \n",
              " std         0.716504                                                NaN   \n",
              " min         1.000000                                                NaN   \n",
              " 25%         3.500000                                                NaN   \n",
              " 50%         4.000000                                                NaN   \n",
              " 75%         4.500000                                                NaN   \n",
              " max         5.000000                                                NaN   \n",
              " \n",
              "                                         review/timeStruct  review/timeUnix  \\\n",
              " count                                               37500     3.750000e+04   \n",
              " unique                                              37490              NaN   \n",
              " top     {'min': 0, 'hour': 0, 'mday': 10, 'sec': 1, 'y...              NaN   \n",
              " freq                                                    3              NaN   \n",
              " mean                                                  NaN     1.232794e+09   \n",
              " std                                                   NaN     7.190955e+07   \n",
              " min                                                   NaN     9.262944e+08   \n",
              " 25%                                                   NaN     1.189194e+09   \n",
              " 50%                                                   NaN     1.248150e+09   \n",
              " 75%                                                   NaN     1.291330e+09   \n",
              " max                                                   NaN     1.326267e+09   \n",
              " \n",
              "         user/ageInSeconds user/birthdayRaw  user/birthdayUnix user/gender  \\\n",
              " count        7.856000e+03             7856       7.856000e+03       15314   \n",
              " unique                NaN             1432                NaN           2   \n",
              " top                   NaN     Sep 14, 1980                NaN        Male   \n",
              " freq                  NaN               76                NaN       15069   \n",
              " mean         1.176705e+09              NaN       2.416303e+08         NaN   \n",
              " std          3.375514e+08              NaN       3.375514e+08         NaN   \n",
              " min          7.034366e+08              NaN      -2.208960e+09         NaN   \n",
              " 25%          9.794810e+08              NaN       1.433628e+08         NaN   \n",
              " 50%          1.100009e+09              NaN       3.183264e+08         NaN   \n",
              " 75%          1.274973e+09              NaN       4.388544e+08         NaN   \n",
              " max          3.627295e+09              NaN       7.148988e+08         NaN   \n",
              " \n",
              "        user/profileName  \n",
              " count             37495  \n",
              " unique             7441  \n",
              " top      northyorksammy  \n",
              " freq                141  \n",
              " mean                NaN  \n",
              " std                 NaN  \n",
              " min                 NaN  \n",
              " 25%                 NaN  \n",
              " 50%                 NaN  \n",
              " 75%                 NaN  \n",
              " max                 NaN  ,\n",
              " 'missing_values': index                    0\n",
              " beer/ABV                 0\n",
              " beer/beerId              0\n",
              " beer/brewerId            0\n",
              " beer/name                0\n",
              " beer/style               0\n",
              " review/appearance        0\n",
              " review/aroma             0\n",
              " review/overall           0\n",
              " review/palate            0\n",
              " review/taste             0\n",
              " review/text             10\n",
              " review/timeStruct        0\n",
              " review/timeUnix          0\n",
              " user/ageInSeconds    29644\n",
              " user/birthdayRaw     29644\n",
              " user/birthdayUnix    29644\n",
              " user/gender          22186\n",
              " user/profileName         5\n",
              " dtype: int64}"
            ]
          },
          "metadata": {},
          "execution_count": 1
        }
      ],
      "source": [
        "import pandas as pd\n",
        "\n",
        "# Load the dataset\n",
        "file_path = '/content/train.csv'\n",
        "data = pd.read_csv(file_path)\n",
        "\n",
        "# Display basic information about the dataset\n",
        "data_info = {\n",
        "    \"head\": data.head(),\n",
        "    \"info\": data.info(),\n",
        "    \"description\": data.describe(include=\"all\"),\n",
        "    \"missing_values\": data.isnull().sum()\n",
        "}\n",
        "\n",
        "data_info\n"
      ]
    },
    {
      "cell_type": "code",
      "source": [
        "# Step 1: Handle missing values\n",
        "\n",
        "# Drop rows with missing 'review/text'\n",
        "data_cleaned = data.fillna({'review/text': 'Unknown'})\n",
        "\n",
        "# Fill missing 'user/gender' with 'Unknown'\n",
        "data_cleaned['user/gender'] = data_cleaned['user/gender'].fillna('Unknown')\n",
        "\n",
        "# Drop columns with excessive missing values\n",
        "columns_to_drop = ['user/ageInSeconds', 'user/birthdayRaw', 'user/birthdayUnix','review/timeStruct']\n",
        "data_cleaned = data_cleaned.drop(columns=columns_to_drop, axis=1)\n",
        "\n",
        "# Recheck missing values after cleaning\n",
        "missing_values_after_cleaning = data_cleaned.isnull().sum()\n",
        "\n",
        "missing_values_after_cleaning\n"
      ],
      "metadata": {
        "colab": {
          "base_uri": "https://localhost:8080/",
          "height": 554
        },
        "id": "miVF2S9U2oRw",
        "outputId": "bd9c3211-753c-4b3e-a8ef-18a8030c6568",
        "collapsed": true
      },
      "execution_count": 2,
      "outputs": [
        {
          "output_type": "execute_result",
          "data": {
            "text/plain": [
              "index                0\n",
              "beer/ABV             0\n",
              "beer/beerId          0\n",
              "beer/brewerId        0\n",
              "beer/name            0\n",
              "beer/style           0\n",
              "review/appearance    0\n",
              "review/aroma         0\n",
              "review/overall       0\n",
              "review/palate        0\n",
              "review/taste         0\n",
              "review/text          0\n",
              "review/timeUnix      0\n",
              "user/gender          0\n",
              "user/profileName     5\n",
              "dtype: int64"
            ],
            "text/html": [
              "<div>\n",
              "<style scoped>\n",
              "    .dataframe tbody tr th:only-of-type {\n",
              "        vertical-align: middle;\n",
              "    }\n",
              "\n",
              "    .dataframe tbody tr th {\n",
              "        vertical-align: top;\n",
              "    }\n",
              "\n",
              "    .dataframe thead th {\n",
              "        text-align: right;\n",
              "    }\n",
              "</style>\n",
              "<table border=\"1\" class=\"dataframe\">\n",
              "  <thead>\n",
              "    <tr style=\"text-align: right;\">\n",
              "      <th></th>\n",
              "      <th>0</th>\n",
              "    </tr>\n",
              "  </thead>\n",
              "  <tbody>\n",
              "    <tr>\n",
              "      <th>index</th>\n",
              "      <td>0</td>\n",
              "    </tr>\n",
              "    <tr>\n",
              "      <th>beer/ABV</th>\n",
              "      <td>0</td>\n",
              "    </tr>\n",
              "    <tr>\n",
              "      <th>beer/beerId</th>\n",
              "      <td>0</td>\n",
              "    </tr>\n",
              "    <tr>\n",
              "      <th>beer/brewerId</th>\n",
              "      <td>0</td>\n",
              "    </tr>\n",
              "    <tr>\n",
              "      <th>beer/name</th>\n",
              "      <td>0</td>\n",
              "    </tr>\n",
              "    <tr>\n",
              "      <th>beer/style</th>\n",
              "      <td>0</td>\n",
              "    </tr>\n",
              "    <tr>\n",
              "      <th>review/appearance</th>\n",
              "      <td>0</td>\n",
              "    </tr>\n",
              "    <tr>\n",
              "      <th>review/aroma</th>\n",
              "      <td>0</td>\n",
              "    </tr>\n",
              "    <tr>\n",
              "      <th>review/overall</th>\n",
              "      <td>0</td>\n",
              "    </tr>\n",
              "    <tr>\n",
              "      <th>review/palate</th>\n",
              "      <td>0</td>\n",
              "    </tr>\n",
              "    <tr>\n",
              "      <th>review/taste</th>\n",
              "      <td>0</td>\n",
              "    </tr>\n",
              "    <tr>\n",
              "      <th>review/text</th>\n",
              "      <td>0</td>\n",
              "    </tr>\n",
              "    <tr>\n",
              "      <th>review/timeUnix</th>\n",
              "      <td>0</td>\n",
              "    </tr>\n",
              "    <tr>\n",
              "      <th>user/gender</th>\n",
              "      <td>0</td>\n",
              "    </tr>\n",
              "    <tr>\n",
              "      <th>user/profileName</th>\n",
              "      <td>5</td>\n",
              "    </tr>\n",
              "  </tbody>\n",
              "</table>\n",
              "</div><br><label><b>dtype:</b> int64</label>"
            ]
          },
          "metadata": {},
          "execution_count": 2
        }
      ]
    },
    {
      "cell_type": "code",
      "source": [
        "# Fill missing 'user/profileName' with 'Unknown'\n",
        "data_cleaned['user/profileName'] = data_cleaned['user/profileName'].fillna('Unknown')\n",
        "\n",
        "# Recheck missing values to confirm all are handled\n",
        "final_missing_values = data_cleaned.isnull().sum()\n",
        "\n",
        "final_missing_values\n"
      ],
      "metadata": {
        "colab": {
          "base_uri": "https://localhost:8080/",
          "height": 554
        },
        "id": "tnuVGCEt2m2J",
        "outputId": "130a1271-0c10-4e55-d6f7-d3b103a380a0",
        "collapsed": true
      },
      "execution_count": 3,
      "outputs": [
        {
          "output_type": "execute_result",
          "data": {
            "text/plain": [
              "index                0\n",
              "beer/ABV             0\n",
              "beer/beerId          0\n",
              "beer/brewerId        0\n",
              "beer/name            0\n",
              "beer/style           0\n",
              "review/appearance    0\n",
              "review/aroma         0\n",
              "review/overall       0\n",
              "review/palate        0\n",
              "review/taste         0\n",
              "review/text          0\n",
              "review/timeUnix      0\n",
              "user/gender          0\n",
              "user/profileName     0\n",
              "dtype: int64"
            ],
            "text/html": [
              "<div>\n",
              "<style scoped>\n",
              "    .dataframe tbody tr th:only-of-type {\n",
              "        vertical-align: middle;\n",
              "    }\n",
              "\n",
              "    .dataframe tbody tr th {\n",
              "        vertical-align: top;\n",
              "    }\n",
              "\n",
              "    .dataframe thead th {\n",
              "        text-align: right;\n",
              "    }\n",
              "</style>\n",
              "<table border=\"1\" class=\"dataframe\">\n",
              "  <thead>\n",
              "    <tr style=\"text-align: right;\">\n",
              "      <th></th>\n",
              "      <th>0</th>\n",
              "    </tr>\n",
              "  </thead>\n",
              "  <tbody>\n",
              "    <tr>\n",
              "      <th>index</th>\n",
              "      <td>0</td>\n",
              "    </tr>\n",
              "    <tr>\n",
              "      <th>beer/ABV</th>\n",
              "      <td>0</td>\n",
              "    </tr>\n",
              "    <tr>\n",
              "      <th>beer/beerId</th>\n",
              "      <td>0</td>\n",
              "    </tr>\n",
              "    <tr>\n",
              "      <th>beer/brewerId</th>\n",
              "      <td>0</td>\n",
              "    </tr>\n",
              "    <tr>\n",
              "      <th>beer/name</th>\n",
              "      <td>0</td>\n",
              "    </tr>\n",
              "    <tr>\n",
              "      <th>beer/style</th>\n",
              "      <td>0</td>\n",
              "    </tr>\n",
              "    <tr>\n",
              "      <th>review/appearance</th>\n",
              "      <td>0</td>\n",
              "    </tr>\n",
              "    <tr>\n",
              "      <th>review/aroma</th>\n",
              "      <td>0</td>\n",
              "    </tr>\n",
              "    <tr>\n",
              "      <th>review/overall</th>\n",
              "      <td>0</td>\n",
              "    </tr>\n",
              "    <tr>\n",
              "      <th>review/palate</th>\n",
              "      <td>0</td>\n",
              "    </tr>\n",
              "    <tr>\n",
              "      <th>review/taste</th>\n",
              "      <td>0</td>\n",
              "    </tr>\n",
              "    <tr>\n",
              "      <th>review/text</th>\n",
              "      <td>0</td>\n",
              "    </tr>\n",
              "    <tr>\n",
              "      <th>review/timeUnix</th>\n",
              "      <td>0</td>\n",
              "    </tr>\n",
              "    <tr>\n",
              "      <th>user/gender</th>\n",
              "      <td>0</td>\n",
              "    </tr>\n",
              "    <tr>\n",
              "      <th>user/profileName</th>\n",
              "      <td>0</td>\n",
              "    </tr>\n",
              "  </tbody>\n",
              "</table>\n",
              "</div><br><label><b>dtype:</b> int64</label>"
            ]
          },
          "metadata": {},
          "execution_count": 3
        }
      ]
    },
    {
      "cell_type": "code",
      "source": [
        "from sklearn.feature_extraction.text import TfidfVectorizer\n",
        "import numpy as np\n",
        "\n",
        "# Compute mean and standard deviation of ratings\n",
        "data_cleaned['review/meanRating'] = data_cleaned[\n",
        "    ['review/appearance', 'review/aroma', 'review/palate', 'review/taste']\n",
        "].mean(axis=1)\n",
        "data_cleaned['review/stdRating'] = data_cleaned[\n",
        "    ['review/appearance', 'review/aroma', 'review/palate', 'review/taste']\n",
        "].std(axis=1, ddof=0)\n",
        "\n",
        "# Vectorize the 'review/text' column\n",
        "tfidf_vectorizer = TfidfVectorizer(max_features=1000, stop_words='english')\n",
        "tfidf_matrix = tfidf_vectorizer.fit_transform(data_cleaned['review/text'])\n",
        "\n",
        "# Encode 'beer/style' and 'beer/name' as frequency-based categories\n",
        "style_counts = data_cleaned['beer/style'].value_counts()\n",
        "name_counts = data_cleaned['beer/name'].value_counts()\n",
        "\n",
        "data_cleaned['beer/style_encoded'] = data_cleaned['beer/style'].map(style_counts)\n",
        "data_cleaned['beer/name_encoded'] = data_cleaned['beer/name'].map(name_counts)\n",
        "\n",
        "# Check the updated data with new features\n",
        "data_cleaned[['review/meanRating', 'review/stdRating', 'beer/style_encoded', 'beer/name_encoded']].head(), tfidf_matrix.shape\n"
      ],
      "metadata": {
        "colab": {
          "base_uri": "https://localhost:8080/"
        },
        "id": "SaC9AGzn14HV",
        "outputId": "84d309c2-dcf5-4f55-fd52-ffa602407415"
      },
      "execution_count": 4,
      "outputs": [
        {
          "output_type": "execute_result",
          "data": {
            "text/plain": [
              "(   review/meanRating  review/stdRating  beer/style_encoded  beer/name_encoded\n",
              " 0              4.000          0.000000                  62                 17\n",
              " 1              3.500          0.353553                 634                 61\n",
              " 2              3.625          0.216506                1711                 78\n",
              " 3              3.000          0.000000                1131                947\n",
              " 4              3.250          0.559017                 971                252,\n",
              " (37500, 1000))"
            ]
          },
          "metadata": {},
          "execution_count": 4
        }
      ]
    },
    {
      "cell_type": "code",
      "source": [
        "#TF-IDF matrix to dataframe, merge it in original data and remove unnecessary columns\n",
        "import pandas as pd\n",
        "\n",
        "tfidf_df = pd.DataFrame(tfidf_matrix.toarray(), columns=tfidf_vectorizer.get_feature_names_out())\n",
        "data_final = pd.concat([data_cleaned.reset_index(drop=True), tfidf_df], axis=1)\n",
        "columns_to_drop = ['index', 'review/text', 'beer/name', 'beer/style',]\n",
        "data_final = data_final.drop(columns=columns_to_drop, axis=1)\n"
      ],
      "metadata": {
        "id": "32dhmkMtlsHj"
      },
      "execution_count": 5,
      "outputs": []
    },
    {
      "cell_type": "code",
      "source": [
        "#Train and test data split\n",
        "from sklearn.model_selection import train_test_split\n",
        "\n",
        "X = data_final.drop('review/overall', axis=1)\n",
        "y = data_final['review/overall']\n",
        "\n",
        "X_train, X_test, y_train, y_test = train_test_split(X, y, test_size=0.2, random_state=42)\n"
      ],
      "metadata": {
        "id": "5PIBWwmDl6Kg"
      },
      "execution_count": 6,
      "outputs": []
    },
    {
      "cell_type": "code",
      "source": [
        "from sklearn.preprocessing import LabelEncoder\n",
        "\n",
        "# Identify columns with object (string) type\n",
        "categorical_columns = data_cleaned.select_dtypes(include=['object']).columns\n",
        "\n",
        "# Apply label encoding to all categorical columns\n",
        "label_encoders = {}\n",
        "for col in categorical_columns:\n",
        "    le = LabelEncoder()\n",
        "    data_cleaned[col] = le.fit_transform(data_cleaned[col].astype(str))\n",
        "    label_encoders[col] = le\n"
      ],
      "metadata": {
        "id": "eRxgUKptl7IU"
      },
      "execution_count": 7,
      "outputs": []
    },
    {
      "cell_type": "code",
      "source": [
        "# Split the data\n",
        "X = data_cleaned.drop('review/overall', axis=1)\n",
        "y = data_cleaned['review/overall']\n",
        "\n",
        "from sklearn.model_selection import train_test_split\n",
        "X_train, X_test, y_train, y_test = train_test_split(X, y, test_size=0.2, random_state=42)\n",
        "\n",
        "# Train the RandomForestRegressor\n",
        "from sklearn.ensemble import RandomForestRegressor\n",
        "\n",
        "model = RandomForestRegressor(random_state=42)\n",
        "model.fit(X_train, y_train)\n",
        "\n",
        "# Evaluate the model\n",
        "from sklearn.metrics import mean_squared_error, mean_absolute_error, r2_score\n",
        "import numpy as np\n",
        "\n",
        "y_pred = model.predict(X_test)\n",
        "\n",
        "rmse = np.sqrt(mean_squared_error(y_test, y_pred))\n",
        "mae = mean_absolute_error(y_test, y_pred)\n",
        "r2 = r2_score(y_test, y_pred)\n",
        "\n",
        "print(f\"RMSE: {rmse}\")\n",
        "print(f\"MAE: {mae}\")\n",
        "print(f\"R²: {r2}\")\n"
      ],
      "metadata": {
        "colab": {
          "base_uri": "https://localhost:8080/"
        },
        "id": "sq9nEPr-l_kM",
        "outputId": "bcdb1fb8-5f32-4d31-bed6-e4eaa04f3ef8"
      },
      "execution_count": 8,
      "outputs": [
        {
          "output_type": "stream",
          "name": "stdout",
          "text": [
            "RMSE: 0.4048019721625213\n",
            "MAE: 0.30739133333333335\n",
            "R²: 0.6668859935308404\n"
          ]
        }
      ]
    },
    {
      "cell_type": "code",
      "source": [
        "# Evaluates a model's performance using cross-validation\n",
        "from sklearn.model_selection import cross_val_score\n",
        "\n",
        "scores = cross_val_score(model, X, y, cv=5, scoring='r2')\n",
        "print(f\"Mean R²: {scores.mean()}\")\n"
      ],
      "metadata": {
        "colab": {
          "base_uri": "https://localhost:8080/"
        },
        "id": "TFhA0i_8fwtn",
        "outputId": "9f412359-67c2-4d12-a00b-5d84f1d1a9b4"
      },
      "execution_count": 9,
      "outputs": [
        {
          "output_type": "stream",
          "name": "stdout",
          "text": [
            "Mean R²: 0.6668957495086836\n"
          ]
        }
      ]
    },
    {
      "cell_type": "code",
      "source": [
        "#Differences between actual and predicted values\n",
        "import matplotlib.pyplot as plt\n",
        "\n",
        "residuals = y_test - y_pred\n",
        "plt.hist(residuals, bins=50)\n",
        "plt.show()\n"
      ],
      "metadata": {
        "colab": {
          "base_uri": "https://localhost:8080/",
          "height": 430
        },
        "id": "2owmzJbDg09_",
        "outputId": "d3c84575-dbf3-4f72-e594-3045069517ed"
      },
      "execution_count": 10,
      "outputs": [
        {
          "output_type": "display_data",
          "data": {
            "text/plain": [
              "<Figure size 640x480 with 1 Axes>"
            ],
            "image/png": "[encoded data removed]"
          },
          "metadata": {}
        }
      ]
    },
    {
      "cell_type": "code",
      "source": [
        "#Feature importance\n",
        "import matplotlib.pyplot as plt\n",
        "\n",
        "importance = model.feature_importances_\n",
        "plt.barh(X_train.columns, importance)\n",
        "plt.show()\n"
      ],
      "metadata": {
        "colab": {
          "base_uri": "https://localhost:8080/",
          "height": 430
        },
        "id": "4jCLffO8g-dE",
        "outputId": "98276584-0909-4bbd-82b9-796068886012"
      },
      "execution_count": 11,
      "outputs": [
        {
          "output_type": "display_data",
          "data": {
            "text/plain": [
              "<Figure size 640x480 with 1 Axes>"
            ],
            "image/png": "[encoded data removed]"
          },
          "metadata": {}
        }
      ]
    }
  ]
}